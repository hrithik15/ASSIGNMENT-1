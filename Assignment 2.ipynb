{
 "cells": [
  {
   "cell_type": "code",
   "execution_count": 2,
   "metadata": {},
   "outputs": [
    {
     "name": "stdout",
     "output_type": "stream",
     "text": [
      "abc\n",
      "3\n"
     ]
    }
   ],
   "source": [
    "#1\n",
    "c=0\n",
    "a=str(input())\n",
    "for i in a:\n",
    "    c+=1\n",
    "print(c)"
   ]
  },
  {
   "cell_type": "code",
   "execution_count": 4,
   "metadata": {},
   "outputs": [
    {
     "name": "stdout",
     "output_type": "stream",
     "text": [
      "abc\n",
      "def\n",
      "abcdef\n"
     ]
    }
   ],
   "source": [
    "#2\n",
    "a=str(input())\n",
    "b=str(input())\n",
    "print(a+b)"
   ]
  },
  {
   "cell_type": "code",
   "execution_count": 5,
   "metadata": {},
   "outputs": [
    {
     "name": "stdout",
     "output_type": "stream",
     "text": [
      "abc 123 def\n",
      "letter=  8\n",
      "digit=  3\n"
     ]
    }
   ],
   "source": [
    "#3\n",
    "letter=0\n",
    "digit=0\n",
    "a=str(input())\n",
    "c=0\n",
    "for i in a:\n",
    "    if(ord(a[c])>=ord('0') and ord(a[c])<=ord('9')):\n",
    "        digit+=1\n",
    "    else:\n",
    "        letter+=1\n",
    "    c=c+1\n",
    "print(\"letter= \",letter)\n",
    "print(\"digit= \",digit)"
   ]
  },
  {
   "cell_type": "code",
   "execution_count": 6,
   "metadata": {},
   "outputs": [
    {
     "name": "stdout",
     "output_type": "stream",
     "text": [
      "abcD\n",
      "ABCD\n"
     ]
    }
   ],
   "source": [
    "#4\n",
    "a=str(input())\n",
    "b=a.upper()\n",
    "print(b)"
   ]
  },
  {
   "cell_type": "code",
   "execution_count": 8,
   "metadata": {},
   "outputs": [
    {
     "name": "stdout",
     "output_type": "stream",
     "text": [
      "abcABC\n",
      "upper =  3\n",
      "lower =  3\n"
     ]
    }
   ],
   "source": [
    "#5\n",
    "a=str(input())\n",
    "upper=0\n",
    "lower=0\n",
    "c=0\n",
    "for i in a:\n",
    "    if(a[c].isupper()):upper+=1\n",
    "    else: lower+=1\n",
    "    c+=1\n",
    "print(\"upper = \",upper)\n",
    "print(\"lower = \", lower)"
   ]
  },
  {
   "cell_type": "code",
   "execution_count": 9,
   "metadata": {},
   "outputs": [
    {
     "name": "stdout",
     "output_type": "stream",
     "text": [
      "this is iii\n",
      "i\n",
      "5\n"
     ]
    }
   ],
   "source": [
    "#7\n",
    "a=str(input())\n",
    "b=str(input())\n",
    "c=0\n",
    "d=0\n",
    "for i in a:\n",
    "    if(a[c]==b):d+=1\n",
    "    c+=1\n",
    "print(d)"
   ]
  },
  {
   "cell_type": "code",
   "execution_count": 19,
   "metadata": {},
   "outputs": [
    {
     "name": "stdout",
     "output_type": "stream",
     "text": [
      "naman\n",
      "palinderome\n"
     ]
    }
   ],
   "source": [
    "#8\n",
    "a=str(input())\n",
    "if(a[::-1]==a):print(\"palinderome\")"
   ]
  },
  {
   "cell_type": "code",
   "execution_count": 21,
   "metadata": {},
   "outputs": [
    {
     "name": "stdout",
     "output_type": "stream",
     "text": [
      "abc\n",
      "1\n",
      "d\n",
      "adc"
     ]
    }
   ],
   "source": [
    "#9\n",
    "a=str(input())\n",
    "b=int(input())\n",
    "c=str(input())\n",
    "d=list(a)\n",
    "d[b]=c\n",
    "for i in d:\n",
    "    print(i,end=\"\")"
   ]
  },
  {
   "cell_type": "code",
   "execution_count": 24,
   "metadata": {},
   "outputs": [
    {
     "name": "stdout",
     "output_type": "stream",
     "text": [
      "10000111011\n",
      "3\n",
      "TRUE\n"
     ]
    }
   ],
   "source": [
    "#11\n",
    "a=str(input())\n",
    "c=0\n",
    "k=int(input())\n",
    "for i in a:\n",
    "    if(i=='1'):\n",
    "        c+=1\n",
    "        if(c==k):print(\"TRUE\")\n",
    "    else : c=0"
   ]
  },
  {
   "cell_type": "code",
   "execution_count": 18,
   "metadata": {},
   "outputs": [
    {
     "name": "stdout",
     "output_type": "stream",
     "text": [
      "abc\n",
      "cba\n"
     ]
    }
   ],
   "source": [
    "#12\n",
    "a=str(input())\n",
    "b=a[::-1]\n",
    "print(b)"
   ]
  },
  {
   "cell_type": "code",
   "execution_count": null,
   "metadata": {},
   "outputs": [],
   "source": []
  }
 ],
 "metadata": {
  "kernelspec": {
   "display_name": "Python 3",
   "language": "python",
   "name": "python3"
  },
  "language_info": {
   "codemirror_mode": {
    "name": "ipython",
    "version": 3
   },
   "file_extension": ".py",
   "mimetype": "text/x-python",
   "name": "python",
   "nbconvert_exporter": "python",
   "pygments_lexer": "ipython3",
   "version": "3.7.3"
  }
 },
 "nbformat": 4,
 "nbformat_minor": 2
}
